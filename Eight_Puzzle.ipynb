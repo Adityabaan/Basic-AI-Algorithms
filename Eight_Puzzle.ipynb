{
  "nbformat": 4,
  "nbformat_minor": 0,
  "metadata": {
    "colab": {
      "provenance": [],
      "authorship_tag": "ABX9TyOv9PrCcw4S9ji6wBYqafgU",
      "include_colab_link": true
    },
    "kernelspec": {
      "name": "python3",
      "display_name": "Python 3"
    },
    "language_info": {
      "name": "python"
    }
  },
  "cells": [
    {
      "cell_type": "markdown",
      "metadata": {
        "id": "view-in-github",
        "colab_type": "text"
      },
      "source": [
        "<a href=\"https://colab.research.google.com/github/Adityabaan/Basic-AI-Algorithms/blob/main/Eight_Puzzle.ipynb\" target=\"_parent\"><img src=\"https://colab.research.google.com/assets/colab-badge.svg\" alt=\"Open In Colab\"/></a>"
      ]
    },
    {
      "cell_type": "code",
      "execution_count": null,
      "metadata": {
        "colab": {
          "base_uri": "https://localhost:8080/",
          "height": 891
        },
        "id": "ZtWqOSsdYwqX",
        "outputId": "852992e9-09e4-481e-a179-b61df5e944f6"
      },
      "outputs": [
        {
          "output_type": "execute_result",
          "data": {
            "text/plain": [
              "<IPython.core.display.HTML object>"
            ],
            "text/html": [
              "<video width=\"640\" height=\"480\" controls autoplay loop>\n",
              "  <source type=\"video/mp4\" src=\"data:video/mp4;base64,AAAAIGZ0eXBNNFYgAAACAE00ViBpc29taXNvMmF2YzEAAAAIZnJlZQAACLptZGF0AAACrQYF//+p\n",
              "3EXpvebZSLeWLNgg2SPu73gyNjQgLSBjb3JlIDE2MyByMzA2MCA1ZGI2YWE2IC0gSC4yNjQvTVBF\n",
              "Ry00IEFWQyBjb2RlYyAtIENvcHlsZWZ0IDIwMDMtMjAyMSAtIGh0dHA6Ly93d3cudmlkZW9sYW4u\n",
              "b3JnL3gyNjQuaHRtbCAtIG9wdGlvbnM6IGNhYmFjPTEgcmVmPTMgZGVibG9jaz0xOjA6MCBhbmFs\n",
              "eXNlPTB4MzoweDExMyBtZT1oZXggc3VibWU9NyBwc3k9MSBwc3lfcmQ9MS4wMDowLjAwIG1peGVk\n",
              "X3JlZj0xIG1lX3JhbmdlPTE2IGNocm9tYV9tZT0xIHRyZWxsaXM9MSA4eDhkY3Q9MSBjcW09MCBk\n",
              "ZWFkem9uZT0yMSwxMSBmYXN0X3Bza2lwPTEgY2hyb21hX3FwX29mZnNldD0tMiB0aHJlYWRzPTMg\n",
              "bG9va2FoZWFkX3RocmVhZHM9MSBzbGljZWRfdGhyZWFkcz0wIG5yPTAgZGVjaW1hdGU9MSBpbnRl\n",
              "cmxhY2VkPTAgYmx1cmF5X2NvbXBhdD0wIGNvbnN0cmFpbmVkX2ludHJhPTAgYmZyYW1lcz0zIGJf\n",
              "cHlyYW1pZD0yIGJfYWRhcHQ9MSBiX2JpYXM9MCBkaXJlY3Q9MSB3ZWlnaHRiPTEgb3Blbl9nb3A9\n",
              "MCB3ZWlnaHRwPTIga2V5aW50PTI1MCBrZXlpbnRfbWluPTIgc2NlbmVjdXQ9NDAgaW50cmFfcmVm\n",
              "cmVzaD0wIHJjX2xvb2thaGVhZD00MCByYz1jcmYgbWJ0cmVlPTEgY3JmPTIzLjAgcWNvbXA9MC42\n",
              "MCBxcG1pbj0wIHFwbWF4PTY5IHFwc3RlcD00IGlwX3JhdGlvPTEuNDAgYXE9MToxLjAwAIAAAANk\n",
              "ZYiEABT//vfHT8Cm6Plmy51FPSEwitj6SCi9WOzQMnUAAAMAAAMAAAMBFAvtFYF5kQFdeAAABkwA\n",
              "0O1f+FL+gAvZpPRqsJkM9HXNhWtAY3Tj77d/3+QurIBasd+doOIvt1cJX2pgnVwVBFVpxgcH5EiQ\n",
              "LU3rXE8/Rr7ilMhFQjqtDhi0PAvHo97buIjoYnFXiRonvuLBDpHPOw2sOGNAZu/6cBk24wdQ1daO\n",
              "fp4lm4n8Kv5GMBxXYHf7iaktSCIxU4+SnPKz4vtfCafWGXGBa4vjuWVDZsStF0Rb0OoalV1R/tGB\n",
              "LcW569TBQvgu6z2K3xSdiko1XYmN9j2JM+xBNHxI9xW3vsM/7XAbRrFJsHYTJzE+gmID7w7NN9++\n",
              "VEgl6389FIavrbwJWca67cOJeYd86nV/LnQis+tY9hVky31oN1xrV1Ppx1eP8lk8gLIG1rnRk/ln\n",
              "o6p6ZY0+o/+RiX4lha811rKpze88ruSyJ2Aus2wLLj1ckNa6w1OuYQG4ogEAwnuOIXR8w8iRWT1M\n",
              "v3X/qI2TOXsc0KhssAZKi+lbG1m0RNUjYzva9z/GOyTAQY4PP1gIHptxCFDrIX/5Rul8kkCr43Al\n",
              "NeGEI5isPuVvxmz4p57MO8KTyrB8fBF7wq9+onPU5Bsa9WSayv5LMmkkJgWgEY+4LZ9M4ONi7SRL\n",
              "cJvjkZE6rRMl5W5gr+kcFVVqDbCfidsSswgo06ge4vsgYgX1UaAAavmMUmNpzOz0CEHAuLhdfY/V\n",
              "08qBpYUaXCz5Q5vAtyVyzOsibM1RNssjLGpP29VkrbMMXckjcbiR5tdA2k382D+F/zbGWuLGhxj3\n",
              "Jx6OCYtzVnvoNFnm4nHCe1W9mlaNKYV56IJDWNPvtJTuu8BUvtx33+SpPuSTc6gWtmSSK6yxdkkO\n",
              "7fyw+LedHlMaiRz95oiKjFHM6o/1YGqRTpxKlQabY5/m+F6qyHXk1xEcUwhLMOoxoGno9pefm4Cx\n",
              "ta5gR7DHfqODX0Wnt5NBMwJbPP76yecVFNqCAZzadFWby5dBBm8QW3wLafV45aLEtxA+Bp7kvzJE\n",
              "gzgsHdrRad997uBIg3uRjsVvukxKNVIIKDy81sE7HGWRMe7sg42girC2TEHsILWmWXB2KLguBtgt\n",
              "e/oABEFyLblYAAA+4QAAAUNBmiFsQU/+1oywAAAVMgpiAIf0F7ngizXem7bp+LdSGfpB974Q1D9q\n",
              "7Oi2bN+Kd5MH+A6fldzqygP8Ipu//y2A8omPXHEIrzVRhKzMd8erQQq5PA1XPpSFw2ZuudDzZAPm\n",
              "72Ev2VpiK6lJ8Tk7cv82LnF6INAxTcZ5j6KuQ3pdzSg+vKh9v9I8z1Y1J46M7Auvwa7mxnWUGOqS\n",
              "pZA2ehbyoHSy4v7YGOSkfickdsGGDC0rIkQaWLIjYt2wUALbhmxeyzKujPQKsYWA9/nhnbcr1PhL\n",
              "wsV3EDvhNAOhLCDs+eFmwEldaay+++y+DZ4Eh9GyxaQ4LImM69hwWBMzlPaA7xd9Qf4qR1NUzX9t\n",
              "R3bJZMpaouRxp84eXRhipOe5IafM/rQlLHj/WPVBqgW4YP+z8+Xa7KmEEH0Hw/EV4I1nXABgQAAA\n",
              "AU5BmkI8IZMphBL//rUqgAAANpq9VvV/BlcAF1YrvKTbe+nLuGXRl+rAZ/UBgweWHEsjYYlwcSt8\n",
              "vtMd6r+zkG8VH+1nCUidLuK0ng7N04FLnFCk6zaEvJjaYQFiiw8mUisGr5RN8pRBgYAt9MkVxu6U\n",
              "q/wrPqFGT468SHImLhGqTvuTV9EswrT+f8wrKrEkYAtBNp3AiD/mWzX7Pz3GjDusbfytJkvjF0cK\n",
              "JY99J7BraEXA9F1N7Whpr8kEo1EUCnFC+k0JZZYWjyfRt8Na1xJ0ljAM+4wX7qibgj+hiDs2FbOY\n",
              "HFuK/wn7kOMWLYUxNrIieEU5OQQfE7+9y3lY73tN53t/t2vU8v33KNxvu6s7g/3AdekL8n7yHe2j\n",
              "8PEWAlJpiYNVwWlq30udmHdRsTEui1tarnzYV+bxe97FH8fkr1d0UL1Hkz5B5569VFcFAAADRm1v\n",
              "b3YAAABsbXZoZAAAAAAAAAAAAAAAAAAAA+gAAAXcAAEAAAEAAAAAAAAAAAAAAAABAAAAAAAAAAAA\n",
              "AAAAAAAAAQAAAAAAAAAAAAAAAAAAQAAAAAAAAAAAAAAAAAAAAAAAAAAAAAAAAAAAAAAAAAIAAAJw\n",
              "dHJhawAAAFx0a2hkAAAAAwAAAAAAAAAAAAAAAQAAAAAAAAXcAAAAAAAAAAAAAAAAAAAAAAABAAAA\n",
              "AAAAAAAAAAAAAAAAAQAAAAAAAAAAAAAAAAAAQAAAAAKAAAAB4AAAAAAAJGVkdHMAAAAcZWxzdAAA\n",
              "AAAAAAABAAAF3AAAQAAAAQAAAAAB6G1kaWEAAAAgbWRoZAAAAAAAAAAAAAAAAAAAQAAAAGAAVcQA\n",
              "AAAAAC1oZGxyAAAAAAAAAAB2aWRlAAAAAAAAAAAAAAAAVmlkZW9IYW5kbGVyAAAAAZNtaW5mAAAA\n",
              "FHZtaGQAAAABAAAAAAAAAAAAAAAkZGluZgAAABxkcmVmAAAAAAAAAAEAAAAMdXJsIAAAAAEAAAFT\n",
              "c3RibAAAALdzdHNkAAAAAAAAAAEAAACnYXZjMQAAAAAAAAABAAAAAAAAAAAAAAAAAAAAAAKAAeAA\n",
              "SAAAAEgAAAAAAAAAAQAAAAAAAAAAAAAAAAAAAAAAAAAAAAAAAAAAAAAAAAAAABj//wAAADVhdmND\n",
              "AWQAFv/hABhnZAAWrNlAoD2hAAADAAEAAAMABA8WLZYBAAZo6+PLIsD9+PgAAAAAHHV1aWRraEDy\n",
              "XyRPxbo5pRvPAyPzAAAAAAAAABhzdHRzAAAAAAAAAAEAAAADAAAgAAAAABRzdHNzAAAAAAAAAAEA\n",
              "AAABAAAAGGN0dHMAAAAAAAAAAQAAAAMAAEAAAAAAHHN0c2MAAAAAAAAAAQAAAAEAAAADAAAAAQAA\n",
              "ACBzdHN6AAAAAAAAAAAAAAADAAAGGQAAAUcAAAFSAAAAFHN0Y28AAAAAAAAAAQAAADAAAABidWR0\n",
              "YQAAAFptZXRhAAAAAAAAACFoZGxyAAAAAAAAAABtZGlyYXBwbAAAAAAAAAAAAAAAAC1pbHN0AAAA\n",
              "Jal0b28AAAAdZGF0YQAAAAEAAAAATGF2ZjU4Ljc2LjEwMA==\n",
              "\">\n",
              "  Your browser does not support the video tag.\n",
              "</video>"
            ]
          },
          "metadata": {},
          "execution_count": 1
        },
        {
          "output_type": "display_data",
          "data": {
            "text/plain": [
              "<Figure size 640x480 with 1 Axes>"
            ],
            "image/png": "[encoded data removed]"
          },
          "metadata": {}
        }
      ],
      "source": [
        "import matplotlib.pyplot as plt\n",
        "import matplotlib.animation as animation\n",
        "from queue import PriorityQueue\n",
        "from IPython.display import HTML\n",
        "import numpy as np\n",
        "\n",
        "# Define the goal state\n",
        "GOAL_STATE = [[1, 2, 3], [4, 5, 6], [7, 8, 0]]\n",
        "\n",
        "# Helper function to find the position of the blank tile (0)\n",
        "def find_blank(state):\n",
        "    for i in range(3):\n",
        "        for j in range(3):\n",
        "            if state[i][j] == 0:\n",
        "                return i, j\n",
        "\n",
        "# Generate possible moves\n",
        "def get_neighbors(state):\n",
        "    moves = []\n",
        "    x, y = find_blank(state)\n",
        "    directions = [(-1, 0), (1, 0), (0, -1), (0, 1)]\n",
        "    for dx, dy in directions:\n",
        "        nx, ny = x + dx, y + dy\n",
        "        if 0 <= nx < 3 and 0 <= ny < 3:\n",
        "            new_state = [row[:] for row in state]\n",
        "            new_state[x][y], new_state[nx][ny] = new_state[nx][ny], new_state[x][y]\n",
        "            moves.append(new_state)\n",
        "    return moves\n",
        "\n",
        "# Heuristic function: Manhattan distance\n",
        "def manhattan_distance(state):\n",
        "    distance = 0\n",
        "    for i in range(3):\n",
        "        for j in range(3):\n",
        "            value = state[i][j]\n",
        "            if value != 0:\n",
        "                target_x, target_y = divmod(value - 1, 3)\n",
        "                distance += abs(target_x - i) + abs(target_y - j)\n",
        "    return distance\n",
        "\n",
        "# A* algorithm to solve the puzzle\n",
        "def solve_puzzle(start_state):\n",
        "    pq = PriorityQueue()\n",
        "    pq.put((manhattan_distance(start_state), 0, start_state, []))\n",
        "    visited = set()\n",
        "    while not pq.empty():\n",
        "        _, cost, current_state, path = pq.get()\n",
        "        visited.add(tuple(map(tuple, current_state)))\n",
        "        if current_state == GOAL_STATE:\n",
        "            return path + [current_state]\n",
        "        for neighbor in get_neighbors(current_state):\n",
        "            if tuple(map(tuple, neighbor)) not in visited:\n",
        "                pq.put((manhattan_distance(neighbor) + cost + 1, cost + 1, neighbor, path + [current_state]))\n",
        "    return []\n",
        "\n",
        "# Animation setup\n",
        "def animate_puzzle(solution_steps):\n",
        "    fig, ax = plt.subplots()\n",
        "    ax.axis('off')\n",
        "    mat = ax.matshow(solution_steps[0], cmap=\"Blues\")\n",
        "\n",
        "    def update(frame):\n",
        "        mat.set_array(solution_steps[frame])\n",
        "        return mat,\n",
        "\n",
        "    ani = animation.FuncAnimation(\n",
        "        fig, update, frames=len(solution_steps), interval=500, blit=True\n",
        "    )\n",
        "\n",
        "    # Save as HTML and display in Colab\n",
        "    return HTML(ani.to_html5_video())\n",
        "\n",
        "# Define the initial state\n",
        "initial_state = [[1, 2, 3], [4, 0, 5], [7, 8, 6]]\n",
        "\n",
        "# Solve the puzzle and get the solution steps\n",
        "solution = solve_puzzle(initial_state)\n",
        "\n",
        "# Animate and display the solution\n",
        "animate_puzzle(solution)\n"
      ]
    }
  ]
}